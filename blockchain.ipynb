{
 "cells": [
  {
   "cell_type": "markdown",
   "metadata": {},
   "source": [
    "# **Myblockchain Testing [version 1.0]**\n",
    "\n",
    "## 1. Initialization\n",
    "\n",
    "We run follow commands to start blockchain system in two different nodes.\n",
    "\n",
    "It just need us to launch two terminals at the same host address with diffent ports or different host address.\n",
    "\n",
    "Here we use default host address and build blockchain system among different ports.\n",
    "```\n",
    "python nodes.py\n",
    "python nodes.py -p 5001\n",
    "```\n",
    "The host address can be specified by changing the `params.py` as follow:\n",
    "```\n",
    "ADDRESS = YOUR_ADDRESS\n",
    "```\n",
    "\n",
    "## 2. Start client"
   ]
  },
  {
   "cell_type": "code",
   "execution_count": 1,
   "metadata": {},
   "outputs": [],
   "source": [
    "from client import Client"
   ]
  },
  {
   "cell_type": "code",
   "execution_count": 2,
   "metadata": {},
   "outputs": [],
   "source": [
    "# Using default setting\n",
    "# Default host address = 127.0.0.1\n",
    "# Default port = 5000\n",
    "client_1 = Client()"
   ]
  },
  {
   "cell_type": "code",
   "execution_count": 3,
   "metadata": {},
   "outputs": [],
   "source": [
    "client_2 = Client(port=5001)"
   ]
  },
  {
   "cell_type": "code",
   "execution_count": 4,
   "metadata": {},
   "outputs": [
    {
     "data": {
      "text/plain": [
       "{'chain': [{'index': 1,\n",
       "   'previous_hash': 1,\n",
       "   'proof': 100,\n",
       "   'timestamp': 1531576130.1137505,\n",
       "   'transactions': []}],\n",
       " 'length': 1}"
      ]
     },
     "execution_count": 4,
     "metadata": {},
     "output_type": "execute_result"
    }
   ],
   "source": [
    "client_1.get_full_chain()"
   ]
  },
  {
   "cell_type": "code",
   "execution_count": 5,
   "metadata": {},
   "outputs": [
    {
     "data": {
      "text/plain": [
       "{'chain': [{'index': 1,\n",
       "   'previous_hash': 1,\n",
       "   'proof': 100,\n",
       "   'timestamp': 1531576136.6526802,\n",
       "   'transactions': []}],\n",
       " 'length': 1}"
      ]
     },
     "execution_count": 5,
     "metadata": {},
     "output_type": "execute_result"
    }
   ],
   "source": [
    "client_2.get_full_chain()"
   ]
  },
  {
   "cell_type": "markdown",
   "metadata": {},
   "source": [
    "## 3. Transaction"
   ]
  },
  {
   "cell_type": "code",
   "execution_count": 6,
   "metadata": {},
   "outputs": [
    {
     "data": {
      "text/plain": [
       "{'message': 'Transaction will be added to Block 2'}"
      ]
     },
     "execution_count": 6,
     "metadata": {},
     "output_type": "execute_result"
    }
   ],
   "source": [
    "client_2.add_transaction(\"Ken\", \"Echo\", 999)"
   ]
  },
  {
   "cell_type": "code",
   "execution_count": 7,
   "metadata": {},
   "outputs": [
    {
     "data": {
      "text/plain": [
       "{'message': 'Transaction will be added to Block 2'}"
      ]
     },
     "execution_count": 7,
     "metadata": {},
     "output_type": "execute_result"
    }
   ],
   "source": [
    "client_2.add_transaction(\"Echo\", \"Ken\", 1000)"
   ]
  },
  {
   "cell_type": "markdown",
   "metadata": {},
   "source": [
    "**Forging the first block into chain by client_2**"
   ]
  },
  {
   "cell_type": "code",
   "execution_count": 8,
   "metadata": {},
   "outputs": [
    {
     "data": {
      "text/plain": [
       "{'index': 2,\n",
       " 'message': 'New Block Forged',\n",
       " 'previous_hash': '23c1f8570650d02f4eb0444f77ca084ca0c066f7e41b104529aa8701698f2e57',\n",
       " 'proof': 35293,\n",
       " 'transactions': [{'amount': 999, 'recipient': 'Echo', 'sender': 'Ken'},\n",
       "  {'amount': 1000, 'recipient': 'Ken', 'sender': 'Echo'},\n",
       "  {'amount': 1,\n",
       "   'recipient': 'd413be5629a643f1beb9c6348c60287c',\n",
       "   'sender': '0'}]}"
      ]
     },
     "execution_count": 8,
     "metadata": {},
     "output_type": "execute_result"
    }
   ],
   "source": [
    "client_2.mine()"
   ]
  },
  {
   "cell_type": "code",
   "execution_count": 9,
   "metadata": {},
   "outputs": [
    {
     "data": {
      "text/plain": [
       "{'chain': [{'index': 1,\n",
       "   'previous_hash': 1,\n",
       "   'proof': 100,\n",
       "   'timestamp': 1531576136.6526802,\n",
       "   'transactions': []},\n",
       "  {'index': 2,\n",
       "   'previous_hash': '23c1f8570650d02f4eb0444f77ca084ca0c066f7e41b104529aa8701698f2e57',\n",
       "   'proof': 35293,\n",
       "   'timestamp': 1531576173.0635922,\n",
       "   'transactions': [{'amount': 999, 'recipient': 'Echo', 'sender': 'Ken'},\n",
       "    {'amount': 1000, 'recipient': 'Ken', 'sender': 'Echo'},\n",
       "    {'amount': 1,\n",
       "     'recipient': 'd413be5629a643f1beb9c6348c60287c',\n",
       "     'sender': '0'}]}],\n",
       " 'length': 2}"
      ]
     },
     "execution_count": 9,
     "metadata": {},
     "output_type": "execute_result"
    }
   ],
   "source": [
    "client_2.get_full_chain()"
   ]
  },
  {
   "cell_type": "markdown",
   "metadata": {},
   "source": [
    "**Mining another block by client_2**"
   ]
  },
  {
   "cell_type": "code",
   "execution_count": 10,
   "metadata": {},
   "outputs": [
    {
     "data": {
      "text/plain": [
       "{'message': 'Transaction will be added to Block 3'}"
      ]
     },
     "execution_count": 10,
     "metadata": {},
     "output_type": "execute_result"
    }
   ],
   "source": [
    "client_2.add_transaction(\"Ken\", \"Pizza hut (HK)\", 50)"
   ]
  },
  {
   "cell_type": "code",
   "execution_count": 11,
   "metadata": {},
   "outputs": [
    {
     "data": {
      "text/plain": [
       "{'index': 3,\n",
       " 'message': 'New Block Forged',\n",
       " 'previous_hash': '200023c0c3545130ff0ec5b1b6c637d5c815f3a310893522ff7d0a05e5551056',\n",
       " 'proof': 35089,\n",
       " 'transactions': [{'amount': 50,\n",
       "   'recipient': 'Pizza hut (HK)',\n",
       "   'sender': 'Ken'},\n",
       "  {'amount': 1,\n",
       "   'recipient': 'd413be5629a643f1beb9c6348c60287c',\n",
       "   'sender': '0'}]}"
      ]
     },
     "execution_count": 11,
     "metadata": {},
     "output_type": "execute_result"
    }
   ],
   "source": [
    "client_2.mine()"
   ]
  },
  {
   "cell_type": "code",
   "execution_count": 12,
   "metadata": {},
   "outputs": [
    {
     "data": {
      "text/plain": [
       "{'chain': [{'index': 1,\n",
       "   'previous_hash': 1,\n",
       "   'proof': 100,\n",
       "   'timestamp': 1531576136.6526802,\n",
       "   'transactions': []},\n",
       "  {'index': 2,\n",
       "   'previous_hash': '23c1f8570650d02f4eb0444f77ca084ca0c066f7e41b104529aa8701698f2e57',\n",
       "   'proof': 35293,\n",
       "   'timestamp': 1531576173.0635922,\n",
       "   'transactions': [{'amount': 999, 'recipient': 'Echo', 'sender': 'Ken'},\n",
       "    {'amount': 1000, 'recipient': 'Ken', 'sender': 'Echo'},\n",
       "    {'amount': 1,\n",
       "     'recipient': 'd413be5629a643f1beb9c6348c60287c',\n",
       "     'sender': '0'}]},\n",
       "  {'index': 3,\n",
       "   'previous_hash': '200023c0c3545130ff0ec5b1b6c637d5c815f3a310893522ff7d0a05e5551056',\n",
       "   'proof': 35089,\n",
       "   'timestamp': 1531576179.633793,\n",
       "   'transactions': [{'amount': 50,\n",
       "     'recipient': 'Pizza hut (HK)',\n",
       "     'sender': 'Ken'},\n",
       "    {'amount': 1,\n",
       "     'recipient': 'd413be5629a643f1beb9c6348c60287c',\n",
       "     'sender': '0'}]}],\n",
       " 'length': 3}"
      ]
     },
     "execution_count": 12,
     "metadata": {},
     "output_type": "execute_result"
    }
   ],
   "source": [
    "client_2.get_full_chain()"
   ]
  },
  {
   "cell_type": "markdown",
   "metadata": {},
   "source": [
    "## 4. Register nodes and update valid chain by sensoring\n",
    "**Client_1 register the node address of client_2 as its neighbor**"
   ]
  },
  {
   "cell_type": "code",
   "execution_count": 13,
   "metadata": {},
   "outputs": [
    {
     "data": {
      "text/plain": [
       "{'message': 'New nodes have been added', 'total_nodes': ['127.0.0.1:5001']}"
      ]
     },
     "execution_count": 13,
     "metadata": {},
     "output_type": "execute_result"
    }
   ],
   "source": [
    "client_1.register_node([\"http://127.0.0.1:5001\"])"
   ]
  },
  {
   "cell_type": "code",
   "execution_count": 14,
   "metadata": {},
   "outputs": [
    {
     "data": {
      "text/plain": [
       "{'message': 'Our chain was replaced',\n",
       " 'new_chain': [{'index': 1,\n",
       "   'previous_hash': 1,\n",
       "   'proof': 100,\n",
       "   'timestamp': 1531576136.6526802,\n",
       "   'transactions': []},\n",
       "  {'index': 2,\n",
       "   'previous_hash': '23c1f8570650d02f4eb0444f77ca084ca0c066f7e41b104529aa8701698f2e57',\n",
       "   'proof': 35293,\n",
       "   'timestamp': 1531576173.0635922,\n",
       "   'transactions': [{'amount': 999, 'recipient': 'Echo', 'sender': 'Ken'},\n",
       "    {'amount': 1000, 'recipient': 'Ken', 'sender': 'Echo'},\n",
       "    {'amount': 1,\n",
       "     'recipient': 'd413be5629a643f1beb9c6348c60287c',\n",
       "     'sender': '0'}]},\n",
       "  {'index': 3,\n",
       "   'previous_hash': '200023c0c3545130ff0ec5b1b6c637d5c815f3a310893522ff7d0a05e5551056',\n",
       "   'proof': 35089,\n",
       "   'timestamp': 1531576179.633793,\n",
       "   'transactions': [{'amount': 50,\n",
       "     'recipient': 'Pizza hut (HK)',\n",
       "     'sender': 'Ken'},\n",
       "    {'amount': 1,\n",
       "     'recipient': 'd413be5629a643f1beb9c6348c60287c',\n",
       "     'sender': '0'}]}]}"
      ]
     },
     "execution_count": 14,
     "metadata": {},
     "output_type": "execute_result"
    }
   ],
   "source": [
    "client_1.update_chain()"
   ]
  },
  {
   "cell_type": "markdown",
   "metadata": {},
   "source": [
    "**Until now, blockchain can be indentical among all nodes, which is specified to two in this context. As we can see below:**"
   ]
  },
  {
   "cell_type": "code",
   "execution_count": 15,
   "metadata": {},
   "outputs": [
    {
     "data": {
      "text/plain": [
       "{'chain': [{'index': 1,\n",
       "   'previous_hash': 1,\n",
       "   'proof': 100,\n",
       "   'timestamp': 1531576136.6526802,\n",
       "   'transactions': []},\n",
       "  {'index': 2,\n",
       "   'previous_hash': '23c1f8570650d02f4eb0444f77ca084ca0c066f7e41b104529aa8701698f2e57',\n",
       "   'proof': 35293,\n",
       "   'timestamp': 1531576173.0635922,\n",
       "   'transactions': [{'amount': 999, 'recipient': 'Echo', 'sender': 'Ken'},\n",
       "    {'amount': 1000, 'recipient': 'Ken', 'sender': 'Echo'},\n",
       "    {'amount': 1,\n",
       "     'recipient': 'd413be5629a643f1beb9c6348c60287c',\n",
       "     'sender': '0'}]},\n",
       "  {'index': 3,\n",
       "   'previous_hash': '200023c0c3545130ff0ec5b1b6c637d5c815f3a310893522ff7d0a05e5551056',\n",
       "   'proof': 35089,\n",
       "   'timestamp': 1531576179.633793,\n",
       "   'transactions': [{'amount': 50,\n",
       "     'recipient': 'Pizza hut (HK)',\n",
       "     'sender': 'Ken'},\n",
       "    {'amount': 1,\n",
       "     'recipient': 'd413be5629a643f1beb9c6348c60287c',\n",
       "     'sender': '0'}]}],\n",
       " 'length': 3}"
      ]
     },
     "execution_count": 15,
     "metadata": {},
     "output_type": "execute_result"
    }
   ],
   "source": [
    "client_1.get_full_chain()"
   ]
  },
  {
   "cell_type": "code",
   "execution_count": 16,
   "metadata": {},
   "outputs": [
    {
     "data": {
      "text/plain": [
       "{'chain': [{'index': 1,\n",
       "   'previous_hash': 1,\n",
       "   'proof': 100,\n",
       "   'timestamp': 1531576136.6526802,\n",
       "   'transactions': []},\n",
       "  {'index': 2,\n",
       "   'previous_hash': '23c1f8570650d02f4eb0444f77ca084ca0c066f7e41b104529aa8701698f2e57',\n",
       "   'proof': 35293,\n",
       "   'timestamp': 1531576173.0635922,\n",
       "   'transactions': [{'amount': 999, 'recipient': 'Echo', 'sender': 'Ken'},\n",
       "    {'amount': 1000, 'recipient': 'Ken', 'sender': 'Echo'},\n",
       "    {'amount': 1,\n",
       "     'recipient': 'd413be5629a643f1beb9c6348c60287c',\n",
       "     'sender': '0'}]},\n",
       "  {'index': 3,\n",
       "   'previous_hash': '200023c0c3545130ff0ec5b1b6c637d5c815f3a310893522ff7d0a05e5551056',\n",
       "   'proof': 35089,\n",
       "   'timestamp': 1531576179.633793,\n",
       "   'transactions': [{'amount': 50,\n",
       "     'recipient': 'Pizza hut (HK)',\n",
       "     'sender': 'Ken'},\n",
       "    {'amount': 1,\n",
       "     'recipient': 'd413be5629a643f1beb9c6348c60287c',\n",
       "     'sender': '0'}]}],\n",
       " 'length': 3}"
      ]
     },
     "execution_count": 16,
     "metadata": {},
     "output_type": "execute_result"
    }
   ],
   "source": [
    "client_2.get_full_chain()"
   ]
  },
  {
   "cell_type": "code",
   "execution_count": 17,
   "metadata": {},
   "outputs": [
    {
     "data": {
      "text/plain": [
       "True"
      ]
     },
     "execution_count": 17,
     "metadata": {},
     "output_type": "execute_result"
    }
   ],
   "source": [
    "client_1.get_full_chain() == client_2.get_full_chain()"
   ]
  }
 ],
 "metadata": {
  "kernelspec": {
   "display_name": "Python 3",
   "language": "python",
   "name": "python3"
  },
  "language_info": {
   "codemirror_mode": {
    "name": "ipython",
    "version": 3
   },
   "file_extension": ".py",
   "mimetype": "text/x-python",
   "name": "python",
   "nbconvert_exporter": "python",
   "pygments_lexer": "ipython3",
   "version": "3.6.4"
  }
 },
 "nbformat": 4,
 "nbformat_minor": 2
}
